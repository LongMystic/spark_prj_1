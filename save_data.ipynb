{
 "cells": [
  {
   "cell_type": "code",
   "execution_count": 1,
   "id": "1f1da285-4a49-40d0-9069-41852e9f760a",
   "metadata": {},
   "outputs": [],
   "source": [
    "import pyspark\n",
    "from pyspark.sql import SparkSession"
   ]
  },
  {
   "cell_type": "code",
   "execution_count": 2,
   "id": "2b9fa44d-0cc3-495d-a87f-c285f4a584cb",
   "metadata": {},
   "outputs": [
    {
     "name": "stderr",
     "output_type": "stream",
     "text": [
      "24/08/05 16:40:55 WARN NativeCodeLoader: Unable to load native-hadoop library for your platform... using builtin-java classes where applicable\n",
      "Setting default log level to \"WARN\".\n",
      "To adjust logging level use sc.setLogLevel(newLevel). For SparkR, use setLogLevel(newLevel).\n"
     ]
    }
   ],
   "source": [
    "spark = (\n",
    "    SparkSession\n",
    "        .builder\n",
    "        .appName(\"spark_prj_1\")\n",
    "        .config(\"spark.jars\", \"/home/long.vk@citigo.id/Downloads/mysql-connector-j-8.0.33.jar\")\n",
    "        .getOrCreate()\n",
    ")"
   ]
  },
  {
   "cell_type": "code",
   "execution_count": 3,
   "id": "45530cf3-33ff-4386-b1f6-abfffb5a5a5f",
   "metadata": {},
   "outputs": [],
   "source": [
    "url = \"jdbc:mysql://localhost:3306\"\n",
    "\n",
    "properties = {\n",
    "    \"user\": \"admin\",\n",
    "    \"password\": \"password\",\n",
    "    \"driver\": \"com.mysql.jdbc.Driver\"\n",
    "}\n",
    "\n",
    "tables = [\"users\", \"accounts\"]"
   ]
  },
  {
   "cell_type": "code",
   "execution_count": 4,
   "id": "382211a3-b8ec-4414-b810-c0000736b583",
   "metadata": {},
   "outputs": [
    {
     "name": "stderr",
     "output_type": "stream",
     "text": [
      "Loading class `com.mysql.jdbc.Driver'. This is deprecated. The new driver class is `com.mysql.cj.jdbc.Driver'. The driver is automatically registered via the SPI and manual loading of the driver class is generally unnecessary.\n"
     ]
    }
   ],
   "source": [
    "df_users = (\n",
    "    spark\n",
    "    .read\n",
    "    .format(\"jdbc\")\n",
    "    .option(\"url\", f\"{url}/spark_prj_1\")\n",
    "    .option(\"driver\", properties[\"driver\"])\n",
    "    .option(\"dbtable\", tables[0])\n",
    "    .option(\"user\", properties[\"user\"])\n",
    "    .option(\"password\", properties[\"password\"])\n",
    "    .load()\n",
    ")"
   ]
  },
  {
   "cell_type": "code",
   "execution_count": 5,
   "id": "da0226eb-66da-435a-a4cb-28e3182a3c77",
   "metadata": {},
   "outputs": [
    {
     "data": {
      "text/plain": [
       "<bound method DataFrame.printSchema of DataFrame[id: int, first_name: string, last_name: string, date_of_birth: date, age: int, address: string]>"
      ]
     },
     "execution_count": 5,
     "metadata": {},
     "output_type": "execute_result"
    }
   ],
   "source": [
    "df_users.printSchema"
   ]
  },
  {
   "cell_type": "code",
   "execution_count": 6,
   "id": "7225df1c-e4ee-4026-a36e-16e3084ec51a",
   "metadata": {},
   "outputs": [],
   "source": [
    "df_users = df_users.withColumnRenamed(\"id\", \"user_id\")"
   ]
  },
  {
   "cell_type": "code",
   "execution_count": 7,
   "id": "4b098fe1-d641-4d1d-9e4a-82cd8b1848e8",
   "metadata": {},
   "outputs": [
    {
     "name": "stderr",
     "output_type": "stream",
     "text": [
      "                                                                                \r"
     ]
    },
    {
     "name": "stdout",
     "output_type": "stream",
     "text": [
      "+-------+-----------+---------+-------------+---+--------------------+\n",
      "|user_id| first_name|last_name|date_of_birth|age|             address|\n",
      "+-------+-----------+---------+-------------+---+--------------------+\n",
      "|      1|       Paul|   Wright|   1966-06-11| 58|0083 Alex Field\\n...|\n",
      "|      2|       Ruth|    James|   1979-09-11| 44|536 Johnson Lodge...|\n",
      "|      3|   Fernando|   Pineda|   1954-04-02| 70|50542 Roberts Inl...|\n",
      "|      4|Christopher|     Webb|   1967-02-20| 57|819 Warren Terrac...|\n",
      "|      5|     Joseph|    Scott|   1959-09-09| 64|974 David Estates...|\n",
      "+-------+-----------+---------+-------------+---+--------------------+\n",
      "only showing top 5 rows\n",
      "\n"
     ]
    }
   ],
   "source": [
    "df_users.show(5)"
   ]
  },
  {
   "cell_type": "code",
   "execution_count": 8,
   "id": "b5403264-ee24-41b1-a81d-316a0a070c50",
   "metadata": {},
   "outputs": [
    {
     "name": "stderr",
     "output_type": "stream",
     "text": [
      "                                                                                \r"
     ]
    }
   ],
   "source": [
    "(df_users\n",
    "    .write\n",
    "    .format(\"jdbc\")\n",
    "    .option(\"url\", f\"{url}/spark_prj_1_sample_dw\")\n",
    "    .option(\"driver\", properties[\"driver\"])\n",
    "    .option(\"dbtable\", \"user_dim\")\n",
    "    .option(\"user\", properties[\"user\"])\n",
    "    .option(\"password\", properties[\"password\"])\n",
    "    .mode(\"append\")\n",
    "    .save()\n",
    ")"
   ]
  },
  {
   "cell_type": "code",
   "execution_count": 9,
   "id": "f71d5f45-dc03-442f-97a0-1ca6a88240ce",
   "metadata": {},
   "outputs": [],
   "source": [
    "df_accounts = (\n",
    "    spark\n",
    "    .read\n",
    "    .format(\"jdbc\")\n",
    "    .option(\"url\", f\"{url}/spark_prj_1\")\n",
    "    .option(\"driver\", properties[\"driver\"])\n",
    "    .option(\"dbtable\", tables[1])\n",
    "    .option(\"user\", properties[\"user\"])\n",
    "    .option(\"password\", properties[\"password\"])\n",
    "    .load()\n",
    ")"
   ]
  },
  {
   "cell_type": "code",
   "execution_count": 10,
   "id": "a5ee3ed1-902b-476e-8a55-54170e66da4d",
   "metadata": {},
   "outputs": [
    {
     "name": "stderr",
     "output_type": "stream",
     "text": [
      "[Stage 2:>                                                          (0 + 1) / 1]\r"
     ]
    },
    {
     "name": "stdout",
     "output_type": "stream",
     "text": [
      "+---+-------------+----------+--------------------+-----------+-------+\n",
      "| id|     username|  password|               email|createdDate|user_id|\n",
      "+---+-------------+----------+--------------------+-----------+-------+\n",
      "|  1|  lindarogers|8AfMY#Jb_e|rachel63@example.com| 2023-06-20|      1|\n",
      "|  2|     joseph12|oGnA^KzC@5|jamesjesse@exampl...| 2022-02-01|      1|\n",
      "|  3|   fhernandez|E$537_BmX+|fergusontonya@exa...| 2018-08-01|      2|\n",
      "|  4|  paulpearson|$^k0NBg&70|   max00@example.org| 2018-11-09|      2|\n",
      "|  5|mcleanmatthew|xhsKQ)n4^0|johnrosales@examp...| 2024-03-14|      2|\n",
      "+---+-------------+----------+--------------------+-----------+-------+\n",
      "only showing top 5 rows\n",
      "\n"
     ]
    },
    {
     "name": "stderr",
     "output_type": "stream",
     "text": [
      "                                                                                \r"
     ]
    }
   ],
   "source": [
    "df_accounts.show(5)"
   ]
  },
  {
   "cell_type": "code",
   "execution_count": 15,
   "id": "c0a11a5b-5fa5-4668-8bbd-1770d2e692a6",
   "metadata": {},
   "outputs": [],
   "source": [
    "df_accounts = (df_accounts\n",
    "     .withColumnRenamed(\"id\", \"acc_id\")\n",
    "     .drop(\"password\")\n",
    "     .drop(\"createdDate\")\n",
    "     .drop(\"user_id\")\n",
    ")"
   ]
  },
  {
   "cell_type": "code",
   "execution_count": 16,
   "id": "b6255142-3501-4a0f-96e1-b6cf3b649ea1",
   "metadata": {},
   "outputs": [
    {
     "name": "stderr",
     "output_type": "stream",
     "text": [
      "[Stage 4:>                                                          (0 + 1) / 1]\r"
     ]
    },
    {
     "name": "stdout",
     "output_type": "stream",
     "text": [
      "+------+-------------+--------------------+\n",
      "|acc_id|     username|               email|\n",
      "+------+-------------+--------------------+\n",
      "|     1|  lindarogers|rachel63@example.com|\n",
      "|     2|     joseph12|jamesjesse@exampl...|\n",
      "|     3|   fhernandez|fergusontonya@exa...|\n",
      "|     4|  paulpearson|   max00@example.org|\n",
      "|     5|mcleanmatthew|johnrosales@examp...|\n",
      "+------+-------------+--------------------+\n",
      "only showing top 5 rows\n",
      "\n"
     ]
    },
    {
     "name": "stderr",
     "output_type": "stream",
     "text": [
      "                                                                                \r"
     ]
    }
   ],
   "source": [
    "df_accounts.show(5)"
   ]
  },
  {
   "cell_type": "code",
   "execution_count": 20,
   "id": "481b8836-23c9-463c-bb4c-ae11f43ac9aa",
   "metadata": {},
   "outputs": [
    {
     "name": "stderr",
     "output_type": "stream",
     "text": [
      "                                                                                \r"
     ]
    }
   ],
   "source": [
    "(df_accounts\n",
    "    .write\n",
    "    .format(\"jdbc\")\n",
    "    .option(\"url\", f\"{url}/spark_prj_1_sample_dw\")\n",
    "    .option(\"driver\", properties[\"driver\"])\n",
    "    .option(\"dbtable\", \"account_dim\")\n",
    "    .option(\"user\", properties[\"user\"])\n",
    "    .option(\"password\", properties[\"password\"])\n",
    "    .mode(\"append\")\n",
    "    .save()\n",
    ")"
   ]
  },
  {
   "cell_type": "code",
   "execution_count": 21,
   "id": "d18269cc-39b2-4b3f-9782-e4c323a39c2b",
   "metadata": {},
   "outputs": [],
   "source": [
    "df_acc_creation = (\n",
    "    spark\n",
    "    .read\n",
    "    .format(\"jdbc\")\n",
    "    .option(\"url\", f\"{url}/spark_prj_1\")\n",
    "    .option(\"driver\", properties[\"driver\"])\n",
    "    .option(\"dbtable\", tables[1])\n",
    "    .option(\"user\", properties[\"user\"])\n",
    "    .option(\"password\", properties[\"password\"])\n",
    "    .load()\n",
    ")"
   ]
  },
  {
   "cell_type": "code",
   "execution_count": 22,
   "id": "6a8bc845-7c0c-48a4-ac49-64c62c41f72c",
   "metadata": {},
   "outputs": [
    {
     "name": "stderr",
     "output_type": "stream",
     "text": [
      "[Stage 7:>                                                          (0 + 1) / 1]\r"
     ]
    },
    {
     "name": "stdout",
     "output_type": "stream",
     "text": [
      "+---+-------------+----------+--------------------+-----------+-------+\n",
      "| id|     username|  password|               email|createdDate|user_id|\n",
      "+---+-------------+----------+--------------------+-----------+-------+\n",
      "|  1|  lindarogers|8AfMY#Jb_e|rachel63@example.com| 2023-06-20|      1|\n",
      "|  2|     joseph12|oGnA^KzC@5|jamesjesse@exampl...| 2022-02-01|      1|\n",
      "|  3|   fhernandez|E$537_BmX+|fergusontonya@exa...| 2018-08-01|      2|\n",
      "|  4|  paulpearson|$^k0NBg&70|   max00@example.org| 2018-11-09|      2|\n",
      "|  5|mcleanmatthew|xhsKQ)n4^0|johnrosales@examp...| 2024-03-14|      2|\n",
      "+---+-------------+----------+--------------------+-----------+-------+\n",
      "only showing top 5 rows\n",
      "\n"
     ]
    },
    {
     "name": "stderr",
     "output_type": "stream",
     "text": [
      "                                                                                \r"
     ]
    }
   ],
   "source": [
    "df_acc_creation.show(5)"
   ]
  },
  {
   "cell_type": "code",
   "execution_count": 23,
   "id": "6e177c60-322b-49fb-8e1a-971d3bd36ba5",
   "metadata": {},
   "outputs": [],
   "source": [
    "df_acc_creation = (\n",
    "    df_acc_creation\n",
    "    .withColumnRenamed(\"id\", \"acc_id\")\n",
    "    .withColumnRenamed(\"createdDate\", \"created_date\")\n",
    "    .drop(\"username\")\n",
    "    .drop(\"password\")\n",
    "    .drop(\"email\")\n",
    ")"
   ]
  },
  {
   "cell_type": "code",
   "execution_count": 24,
   "id": "f5729b87-b656-478e-96aa-58c9134f4346",
   "metadata": {},
   "outputs": [
    {
     "name": "stderr",
     "output_type": "stream",
     "text": [
      "[Stage 8:>                                                          (0 + 1) / 1]\r"
     ]
    },
    {
     "name": "stdout",
     "output_type": "stream",
     "text": [
      "+------+------------+-------+\n",
      "|acc_id|created_date|user_id|\n",
      "+------+------------+-------+\n",
      "|     1|  2023-06-20|      1|\n",
      "|     2|  2022-02-01|      1|\n",
      "|     3|  2018-08-01|      2|\n",
      "|     4|  2018-11-09|      2|\n",
      "|     5|  2024-03-14|      2|\n",
      "+------+------------+-------+\n",
      "only showing top 5 rows\n",
      "\n"
     ]
    },
    {
     "name": "stderr",
     "output_type": "stream",
     "text": [
      "                                                                                \r"
     ]
    }
   ],
   "source": [
    "df_acc_creation.show(5)"
   ]
  },
  {
   "cell_type": "code",
   "execution_count": 25,
   "id": "2248a9e5-cf70-4b62-97d9-e32281f55e51",
   "metadata": {},
   "outputs": [
    {
     "name": "stderr",
     "output_type": "stream",
     "text": [
      "                                                                                \r"
     ]
    }
   ],
   "source": [
    "(df_acc_creation\n",
    "    .write\n",
    "    .format(\"jdbc\")\n",
    "    .option(\"url\", f\"{url}/spark_prj_1_sample_dw\")\n",
    "    .option(\"driver\", properties[\"driver\"])\n",
    "    .option(\"dbtable\", \"account_creation_fact\")\n",
    "    .option(\"user\", properties[\"user\"])\n",
    "    .option(\"password\", properties[\"password\"])\n",
    "    .mode(\"append\")\n",
    "    .save()\n",
    ")"
   ]
  },
  {
   "cell_type": "code",
   "execution_count": null,
   "id": "cab942e5-5e94-4ac1-a3cf-d608e924e28e",
   "metadata": {},
   "outputs": [],
   "source": []
  }
 ],
 "metadata": {
  "kernelspec": {
   "display_name": "Python 3 (ipykernel)",
   "language": "python",
   "name": "python3"
  },
  "language_info": {
   "codemirror_mode": {
    "name": "ipython",
    "version": 3
   },
   "file_extension": ".py",
   "mimetype": "text/x-python",
   "name": "python",
   "nbconvert_exporter": "python",
   "pygments_lexer": "ipython3",
   "version": "3.8.10"
  }
 },
 "nbformat": 4,
 "nbformat_minor": 5
}
